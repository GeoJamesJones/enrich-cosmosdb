{
 "cells": [
  {
   "cell_type": "code",
   "execution_count": 1,
   "metadata": {},
   "outputs": [],
   "source": [
    "import datetime\n",
    "import time\n",
    "import json\n",
    "import os\n",
    "import string\n",
    "import requests\n",
    "import sys\n",
    "import traceback\n",
    "\n",
    "import azure.cosmos.cosmos_client as cosmos_client\n",
    "import pandas as pd\n",
    "\n",
    "from arcgis import GIS\n",
    "from arcgis.features import GeoAccessor, GeoSeriesAccessor\n",
    "from helpers import keys"
   ]
  },
  {
   "cell_type": "code",
   "execution_count": 2,
   "metadata": {},
   "outputs": [
    {
     "name": "stdout",
     "output_type": "stream",
     "text": [
      "Successfully connected to ArcGIS Online...\n"
     ]
    }
   ],
   "source": [
    "gis = GIS('http://esrifederal.maps.arcgis.com', keys.user_name, keys.password)\n",
    "print(\"Successfully connected to ArcGIS Online...\")"
   ]
  },
  {
   "cell_type": "code",
   "execution_count": 3,
   "metadata": {},
   "outputs": [
    {
     "name": "stdout",
     "output_type": "stream",
     "text": [
      "Connected to Embassies data layer\n"
     ]
    }
   ],
   "source": [
    "embassy_locations = gis.content.get('e17b84b94cb24fea83bf402b756e4f95')\n",
    "print(\"Connected to Embassies data layer\")"
   ]
  },
  {
   "cell_type": "code",
   "execution_count": 5,
   "metadata": {},
   "outputs": [],
   "source": [
    "flayer = embassy_locations.layers[0]\n",
    "df = flayer.query(where='1=1').sdf"
   ]
  },
  {
   "cell_type": "code",
   "execution_count": 6,
   "metadata": {},
   "outputs": [],
   "source": [
    "config = {\n",
    "    'ENDPOINT': keys.cosmos_uri,\n",
    "    'PRIMARYKEY': keys.cosmos_primary_key,\n",
    "    'DATABASE': 'testdb',\n",
    "    'CONTAINER': 'sample'\n",
    "}"
   ]
  },
  {
   "cell_type": "code",
   "execution_count": 7,
   "metadata": {},
   "outputs": [
    {
     "name": "stdout",
     "output_type": "stream",
     "text": [
      "Connecting to Cosmos DB SQL API...\n"
     ]
    }
   ],
   "source": [
    "print(\"Connecting to Cosmos DB SQL API...\")\n",
    "client = cosmos_client.CosmosClient(url_connection=config['ENDPOINT'], auth={\n",
    "                                    'masterKey': config['PRIMARYKEY']})"
   ]
  },
  {
   "cell_type": "code",
   "execution_count": 8,
   "metadata": {},
   "outputs": [
    {
     "name": "stdout",
     "output_type": "stream",
     "text": [
      "Connected to testdb...\n",
      "Connected to sample...\n"
     ]
    }
   ],
   "source": [
    "db_id = config['DATABASE']\n",
    "db_query = \"select * from r where r.id = '{0}'\".format(db_id)\n",
    "db = list(client.QueryDatabases(db_query))[0]\n",
    "db_link = db['_self']\n",
    "print(\"Connected to {0}...\".format(db_id))\n",
    "\n",
    "coll_id = config['CONTAINER']\n",
    "coll_query = \"select * from r where r.id = '{0}'\".format(coll_id)\n",
    "coll = list(client.QueryContainers(db_link, coll_query))[0]\n",
    "coll_link = coll['_self']\n",
    "print(\"Connected to {0}...\".format(coll_id))"
   ]
  },
  {
   "cell_type": "code",
   "execution_count": 9,
   "metadata": {},
   "outputs": [
    {
     "name": "stdout",
     "output_type": "stream",
     "text": [
      "Location of London: -0.0125737, 51.508529\n",
      "Successfully added new item...\n",
      "Location of Athens: 23.742804, 38.033329\n",
      "Successfully added new item...\n"
     ]
    }
   ],
   "source": [
    "docs = client.ReadItems(coll_link)\n",
    "for item in docs:\n",
    "    city = item['name']\n",
    "    query_df = df.loc[df['ConSvcProv'] == city]\n",
    "    lat = query_df['Lat'].item()\n",
    "    long = query_df['Long_'].item()\n",
    "    print(\"Location of {0}: {1}, {2}\".format(city, str(long), str(lat)))\n",
    "    \n",
    "    new_cosmos_item = client.CreateItem(coll_link,{\n",
    "                    'id':item['id'] + \"1\",\n",
    "                    'name': item['name'],\n",
    "                    'lat': lat,\n",
    "                    'long':long\n",
    "                        })\n",
    "    print(\"Successfully added new item...\")"
   ]
  },
  {
   "cell_type": "code",
   "execution_count": null,
   "metadata": {},
   "outputs": [],
   "source": []
  }
 ],
 "metadata": {
  "kernelspec": {
   "display_name": "Python 3",
   "language": "python",
   "name": "python3"
  },
  "language_info": {
   "codemirror_mode": {
    "name": "ipython",
    "version": 3
   },
   "file_extension": ".py",
   "mimetype": "text/x-python",
   "name": "python",
   "nbconvert_exporter": "python",
   "pygments_lexer": "ipython3",
   "version": "3.6.7"
  }
 },
 "nbformat": 4,
 "nbformat_minor": 2
}
