{
 "cells": [
  {
   "cell_type": "code",
   "execution_count": 1,
   "metadata": {},
   "outputs": [],
   "source": [
    "import datetime\n",
    "import time\n",
    "import json\n",
    "import os\n",
    "import string\n",
    "import requests\n",
    "import sys\n",
    "import traceback\n",
    "\n",
    "import azure.cosmos.cosmos_client as cosmos_client\n",
    "import pandas as pd\n",
    "\n",
    "from arcgis import GIS\n",
    "from arcgis.features import GeoAccessor, GeoSeriesAccessor\n",
    "from helpers import keys"
   ]
  },
  {
   "cell_type": "code",
   "execution_count": 2,
   "metadata": {},
   "outputs": [],
   "source": [
    "gis = GIS('http://esrifederal.maps.arcgis.com', keys.user_name, keys.password)"
   ]
  },
  {
   "cell_type": "code",
   "execution_count": 3,
   "metadata": {},
   "outputs": [
    {
     "data": {
      "text/html": [
       "<div class=\"item_container\" style=\"height: auto; overflow: hidden; border: 1px solid #cfcfcf; border-radius: 2px; background: #f6fafa; line-height: 1.21429em; padding: 10px;\">\n",
       "                    <div class=\"item_left\" style=\"width: 210px; float: left;\">\n",
       "                       <a href='http://esrifederal.maps.arcgis.com/home/item.html?id=e17b84b94cb24fea83bf402b756e4f95' target='_blank'>\n",
       "                        <img src='data:image/png;base64,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' width='200' height='133' class=\"itemThumbnail\">\n",
       "                       </a>\n",
       "                    </div>\n",
       "\n",
       "                    <div class=\"item_right\"     style=\"float: none; width: auto; overflow: hidden;\">\n",
       "                        <a href='http://esrifederal.maps.arcgis.com/home/item.html?id=e17b84b94cb24fea83bf402b756e4f95' target='_blank'><b>EmbassyMap</b>\n",
       "                        </a>\n",
       "                        <br/>Embassy, consulate data managed and stewarded by Department of State (DoS), Bureau of Consular Affairs (CA), Office of Consular Services (OCS).<img src='http://esrifederal.maps.arcgis.com/home/js/jsapi/esri/css/images/item_type_icons/featureshosted16.png' style=\"vertical-align:middle;\">Feature Layer Collection by OliPhantCE_OCS\n",
       "                        <br/>Last Modified: November 06, 2018\n",
       "                        <br/>7 comments, 32,946,677 views\n",
       "                    </div>\n",
       "                </div>\n",
       "                "
      ],
      "text/plain": [
       "<Item title:\"EmbassyMap\" type:Feature Layer Collection owner:OliPhantCE_OCS>"
      ]
     },
     "execution_count": 3,
     "metadata": {},
     "output_type": "execute_result"
    }
   ],
   "source": [
    "embassy_locations = gis.content.get('e17b84b94cb24fea83bf402b756e4f95')\n",
    "embassy_locations"
   ]
  },
  {
   "cell_type": "code",
   "execution_count": 4,
   "metadata": {},
   "outputs": [],
   "source": [
    "flayer = embassy_locations.layers[0]"
   ]
  },
  {
   "cell_type": "code",
   "execution_count": 5,
   "metadata": {},
   "outputs": [],
   "source": [
    "config = {\n",
    "    'ENDPOINT': keys.cosmos_uri,\n",
    "    'PRIMARYKEY': keys.cosmos_primary_key,\n",
    "    'DATABASE': 'testdb',\n",
    "    'CONTAINER': 'sample'\n",
    "}"
   ]
  },
  {
   "cell_type": "code",
   "execution_count": 6,
   "metadata": {},
   "outputs": [
    {
     "name": "stdout",
     "output_type": "stream",
     "text": [
      "Connecting to Cosmos DB SQL API...\n"
     ]
    }
   ],
   "source": [
    "print(\"Connecting to Cosmos DB SQL API...\")\n",
    "client = cosmos_client.CosmosClient(url_connection=config['ENDPOINT'], auth={\n",
    "                                    'masterKey': config['PRIMARYKEY']})"
   ]
  },
  {
   "cell_type": "code",
   "execution_count": 7,
   "metadata": {},
   "outputs": [
    {
     "data": {
      "text/plain": [
       "{'id': 'sample',\n",
       " 'indexingPolicy': {'indexingMode': 'consistent',\n",
       "  'automatic': True,\n",
       "  'includedPaths': [{'path': '/*',\n",
       "    'indexes': [{'kind': 'Range', 'dataType': 'Number', 'precision': -1},\n",
       "     {'kind': 'Range', 'dataType': 'String', 'precision': -1},\n",
       "     {'kind': 'Spatial', 'dataType': 'Point'}]}],\n",
       "  'excludedPaths': [{'path': '/\"_etag\"/?'}]},\n",
       " 'partitionKey': {'paths': ['/data'], 'kind': 'Hash'},\n",
       " 'conflictResolutionPolicy': {'mode': 'LastWriterWins',\n",
       "  'conflictResolutionPath': '/_ts',\n",
       "  'conflictResolutionProcedure': ''},\n",
       " '_rid': 'bvs6AOFWQ3c=',\n",
       " '_ts': 1550192881,\n",
       " '_self': 'dbs/bvs6AA==/colls/bvs6AOFWQ3c=/',\n",
       " '_etag': '\"00002900-0000-0000-0000-5c6610f10000\"',\n",
       " '_docs': 'docs/',\n",
       " '_sprocs': 'sprocs/',\n",
       " '_triggers': 'triggers/',\n",
       " '_udfs': 'udfs/',\n",
       " '_conflicts': 'conflicts/'}"
      ]
     },
     "execution_count": 7,
     "metadata": {},
     "output_type": "execute_result"
    }
   ],
   "source": [
    "db_id = config['DATABASE']\n",
    "db_query = \"select * from r where r.id = '{0}'\".format(db_id)\n",
    "db = list(client.QueryDatabases(db_query))[0]\n",
    "db_link = db['_self']\n",
    "\n",
    "coll_id = config['CONTAINER']\n",
    "coll_query = \"select * from r where r.id = '{0}'\".format(coll_id)\n",
    "coll = list(client.QueryContainers(db_link, coll_query))[0]\n",
    "coll_link = coll['_self']\n",
    "coll"
   ]
  },
  {
   "cell_type": "code",
   "execution_count": 9,
   "metadata": {},
   "outputs": [
    {
     "name": "stdout",
     "output_type": "stream",
     "text": [
      "-0.0125737 51.508529\n"
     ]
    }
   ],
   "source": [
    "docs = client.ReadItems(coll_link)\n",
    "for item in docs:\n",
    "    city = item['name']\n",
    "    df = flayer.query(where=\"City = '{0}'\".format(city)).sdf\n",
    "    lat = df['Lat'][0]\n",
    "    long = df['Long_'][0]\n",
    "    print(long, lat)\n",
    "    \n",
    "    cosmos_item = client.CreateItem(coll_link,{\n",
    "                    'id':item['id'] + \"1\",\n",
    "                    'name': item['name'],\n",
    "                    'lat': lat,\n",
    "                    'long':long\n",
    "                        })"
   ]
  },
  {
   "cell_type": "code",
   "execution_count": null,
   "metadata": {},
   "outputs": [],
   "source": []
  },
  {
   "cell_type": "code",
   "execution_count": null,
   "metadata": {},
   "outputs": [],
   "source": [
    "list(docs)"
   ]
  },
  {
   "cell_type": "code",
   "execution_count": null,
   "metadata": {},
   "outputs": [],
   "source": []
  }
 ],
 "metadata": {
  "kernelspec": {
   "display_name": "Python 3",
   "language": "python",
   "name": "python3"
  },
  "language_info": {
   "codemirror_mode": {
    "name": "ipython",
    "version": 3
   },
   "file_extension": ".py",
   "mimetype": "text/x-python",
   "name": "python",
   "nbconvert_exporter": "python",
   "pygments_lexer": "ipython3",
   "version": "3.6.7"
  }
 },
 "nbformat": 4,
 "nbformat_minor": 2
}
